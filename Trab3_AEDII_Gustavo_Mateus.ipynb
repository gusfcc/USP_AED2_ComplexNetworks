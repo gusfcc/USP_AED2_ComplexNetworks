{
  "nbformat": 4,
  "nbformat_minor": 0,
  "metadata": {
    "colab": {
      "name": "Trab3_AEDII_Gustavo_Mateus.ipynb",
      "provenance": [],
      "collapsed_sections": []
    },
    "kernelspec": {
      "name": "python3",
      "display_name": "Python 3"
    }
  },
  "cells": [
    {
      "cell_type": "markdown",
      "metadata": {
        "id": "wmkukpAnrMji"
      },
      "source": [
        "#Trabalho 3\n",
        "Redes Complexas\n",
        "\n",
        "Relacionamentos entre palavras da área de Computação\n",
        "\n",
        "*   Gustavo Fernandes Carneiro de Castro - 11369684\n",
        "*   Mateus Miquelino da Silva - 11208412"
      ]
    },
    {
      "cell_type": "markdown",
      "metadata": {
        "id": "cpsi0-vvsFhD"
      },
      "source": [
        "#### Import do arquivo foldoc.net"
      ]
    },
    {
      "cell_type": "code",
      "metadata": {
        "colab": {
          "resources": {
            "http://localhost:8080/nbextensions/google.colab/files.js": {
              "data": "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",
              "ok": true,
              "headers": [
                [
                  "content-type",
                  "application/javascript"
                ]
              ],
              "status": 200,
              "status_text": ""
            }
          },
          "base_uri": "https://localhost:8080/",
          "height": 72
        },
        "id": "4nnZcIY5xyn_",
        "outputId": "cd5667f8-dcf7-47c4-a8c7-d17edb4fdf51"
      },
      "source": [
        "import networkx as nx\n",
        "from google.colab import files\n",
        "graphfile = files.upload()"
      ],
      "execution_count": null,
      "outputs": [
        {
          "output_type": "display_data",
          "data": {
            "text/html": [
              "\n",
              "     <input type=\"file\" id=\"files-d7c95093-a7ff-4975-b5fa-62b17e983421\" name=\"files[]\" multiple disabled\n",
              "        style=\"border:none\" />\n",
              "     <output id=\"result-d7c95093-a7ff-4975-b5fa-62b17e983421\">\n",
              "      Upload widget is only available when the cell has been executed in the\n",
              "      current browser session. Please rerun this cell to enable.\n",
              "      </output>\n",
              "      <script src=\"/nbextensions/google.colab/files.js\"></script> "
            ],
            "text/plain": [
              "<IPython.core.display.HTML object>"
            ]
          },
          "metadata": {
            "tags": []
          }
        },
        {
          "output_type": "stream",
          "text": [
            "Saving foldoc.net to foldoc.net\n"
          ],
          "name": "stdout"
        }
      ]
    },
    {
      "cell_type": "markdown",
      "metadata": {
        "id": "W5MIzejDsHqz"
      },
      "source": [
        "####Tranformação do arquivo foldoc.net em um multigrafo direcionado e, depois, a tranformação deste em um grafo direcionado."
      ]
    },
    {
      "cell_type": "code",
      "metadata": {
        "id": "2hXLtqb5caHn"
      },
      "source": [
        "# Justificativa para ISO-8859-1:\n",
        "# https://stackoverflow.com/questions/61668411/ansi-encoding-for-pandas-on-google-colab\n",
        "G = nx.read_pajek(\"/content/foldoc.net\", \"ISO-8859-1\")\n",
        "# Alterar de um Multi Directed Graph para um Directed Graph (perda de 3 arestas)\n",
        "G = nx.DiGraph(G)"
      ],
      "execution_count": null,
      "outputs": []
    },
    {
      "cell_type": "markdown",
      "metadata": {
        "id": "FAftQ14ut3sA"
      },
      "source": [
        "#### Análise de dados"
      ]
    },
    {
      "cell_type": "markdown",
      "metadata": {
        "id": "3YCJqOdOtZ5h"
      },
      "source": [
        "Informações gerais utilizando .info(G)"
      ]
    },
    {
      "cell_type": "code",
      "metadata": {
        "colab": {
          "base_uri": "https://localhost:8080/"
        },
        "id": "AGeNxaDppyNv",
        "outputId": "60583f41-3a3a-4c8c-d1ed-5435ecb25102"
      },
      "source": [
        "print(\"Informações Gerais: \")\n",
        "print(nx.info(G))"
      ],
      "execution_count": null,
      "outputs": [
        {
          "output_type": "stream",
          "text": [
            "Informações Gerais: \n",
            "Name: \n",
            "Type: DiGraph\n",
            "Number of nodes: 13355\n",
            "Number of edges: 120235\n",
            "Average in degree:   9.0030\n",
            "Average out degree:   9.0030\n"
          ],
          "name": "stdout"
        }
      ]
    },
    {
      "cell_type": "markdown",
      "metadata": {
        "id": "Kgrq2DzCtdv_"
      },
      "source": [
        "(a) Tipo de rede (direcionada ou não, ponderada ou não)"
      ]
    },
    {
      "cell_type": "code",
      "metadata": {
        "colab": {
          "base_uri": "https://localhost:8080/"
        },
        "id": "_6BnMrUCp0XJ",
        "outputId": "792a9125-2c1e-402a-c7da-58c1a8db888e"
      },
      "source": [
        "print(\"(a) Tipo de rede (direcionada ou não, ponderada ou não)\")\n",
        "print(\"Gráfico direcionado: \" + str(nx.is_directed(G)))\n",
        "print(\"Gráfico ponderado: \" + str(nx.is_weighted(G)))"
      ],
      "execution_count": null,
      "outputs": [
        {
          "output_type": "stream",
          "text": [
            "(a) Tipo de rede (direcionada ou não, ponderada ou não)\n",
            "Gráfico direcionado: True\n",
            "Gráfico ponderado: True\n"
          ],
          "name": "stdout"
        }
      ]
    },
    {
      "cell_type": "markdown",
      "metadata": {
        "id": "LLtXVLWTtjLz"
      },
      "source": [
        "(b) Número de nós e arestas"
      ]
    },
    {
      "cell_type": "code",
      "metadata": {
        "colab": {
          "base_uri": "https://localhost:8080/"
        },
        "id": "C1E846N_p4gb",
        "outputId": "69454334-2baa-468b-df7e-a87ee3b999fd"
      },
      "source": [
        "print(\"(b) Número de nós e arestas\")\n",
        "print(\"Número de nós: \" + str(nx.number_of_nodes(G)))\n",
        "print(\"Número de arestas: \" + str(nx.number_of_edges(G)))"
      ],
      "execution_count": null,
      "outputs": [
        {
          "output_type": "stream",
          "text": [
            "(b) Número de nós e arestas\n",
            "Número de nós: 13355\n",
            "Número de arestas: 120235\n"
          ],
          "name": "stdout"
        }
      ]
    },
    {
      "cell_type": "markdown",
      "metadata": {
        "id": "RsvO7EXjuMHy"
      },
      "source": [
        "(c) Grau máximo, mínimo e médio"
      ]
    },
    {
      "cell_type": "code",
      "metadata": {
        "colab": {
          "base_uri": "https://localhost:8080/"
        },
        "id": "ttuNsQhKp6b1",
        "outputId": "7caa5c3b-dbed-4caf-944a-13524fab2741"
      },
      "source": [
        "print(\"(c) Grau máximo, mínimo e médio\")\n",
        "inDegreeDict = dict(G.in_degree(weight = \"weight\"))\n",
        "inMaxDegree = max(inDegreeDict.values())\n",
        "inMinDegree = min(inDegreeDict.values())\n",
        "inAvgDegree = sum(inDegreeDict.values())/len(inDegreeDict.values())\n",
        "\n",
        "outDegreeDict = dict(G.out_degree(weight = \"weight\"))\n",
        "outMaxDegree = max(outDegreeDict.values())\n",
        "outMinDegree = min(outDegreeDict.values())\n",
        "outAvgDegree = sum(outDegreeDict.values())/len(outDegreeDict.values())\n",
        "\n",
        "print(\"Grau de entrada máximo do Grafo: \" + str(inMaxDegree))\n",
        "print(\"Grau de entrada mínimo do Grafo: \" + str(inMinDegree))\n",
        "print(\"Grau de entrada médio do Grafo:  \" + str(inAvgDegree))\n",
        "print()\n",
        "print(\"Grau de saída máximo do Grafo: \" + str(outMaxDegree))\n",
        "print(\"Grau de saída mínimo do Grafo: \" + str(outMinDegree))\n",
        "print(\"Grau de saída médio do Grafo:  \" + str(outAvgDegree))"
      ],
      "execution_count": null,
      "outputs": [
        {
          "output_type": "stream",
          "text": [
            "(c) Grau máximo, mínimo e médio\n",
            "Grau de entrada máximo do Grafo: 819.0\n",
            "Grau de entrada mínimo do Grafo: 0\n",
            "Grau de entrada médio do Grafo:  9.375065518532384\n",
            "\n",
            "Grau de saída máximo do Grafo: 289.0\n",
            "Grau de saída mínimo do Grafo: 3.0\n",
            "Grau de saída médio do Grafo:  9.375065518532384\n"
          ],
          "name": "stdout"
        }
      ]
    },
    {
      "cell_type": "markdown",
      "metadata": {
        "id": "TzMPxyrwuPH7"
      },
      "source": [
        "(d) Densidade da rede"
      ]
    },
    {
      "cell_type": "code",
      "metadata": {
        "colab": {
          "base_uri": "https://localhost:8080/"
        },
        "id": "ld4ys0UrqE4-",
        "outputId": "66a18d76-e1d3-41dd-8d04-d5be8d60ea1c"
      },
      "source": [
        "print(\"(d) Densidade da rede\")\n",
        "print(\"Desidade da rede: \" + str(nx.density(G)))"
      ],
      "execution_count": null,
      "outputs": [
        {
          "output_type": "stream",
          "text": [
            "(d) Densidade da rede\n",
            "Desidade da rede: 0.0006741796565006007\n"
          ],
          "name": "stdout"
        }
      ]
    },
    {
      "cell_type": "markdown",
      "metadata": {
        "id": "8VytnrOPuSEu"
      },
      "source": [
        "(e) Número médio de triângulos"
      ]
    },
    {
      "cell_type": "code",
      "metadata": {
        "colab": {
          "base_uri": "https://localhost:8080/"
        },
        "id": "fwt1x3j_qHzK",
        "outputId": "ce19d6a5-ceab-4fcb-8fb2-7320e4c19b54"
      },
      "source": [
        "print(\"(e) Número médio de triângulos\")\n",
        "trianglesDict = dict(nx.triangles(G.to_undirected()))\n",
        "avgTriangles = sum(trianglesDict.values())/len(trianglesDict.values())\n",
        "print(\"Número médio de triângulos: \" + str(avgTriangles))"
      ],
      "execution_count": null,
      "outputs": [
        {
          "output_type": "stream",
          "text": [
            "(e) Número médio de triângulos\n",
            "Número médio de triângulos: 23.41235492324972\n"
          ],
          "name": "stdout"
        }
      ]
    },
    {
      "cell_type": "markdown",
      "metadata": {
        "id": "0EEg3hmkuUW4"
      },
      "source": [
        "(f) Média do coeficiente de agrupamento (clustering)"
      ]
    },
    {
      "cell_type": "code",
      "metadata": {
        "colab": {
          "base_uri": "https://localhost:8080/"
        },
        "id": "_gLIQ39AqIoo",
        "outputId": "e9974610-2178-4e5d-cb87-c034215f12be"
      },
      "source": [
        "print(\"(f) Média do coeficiente de agrupamento (clustering)\")\n",
        "print(\"Média do coeficiente de agrupamento: \" + str(nx.average_clustering(G, weight = \"weight\")))"
      ],
      "execution_count": null,
      "outputs": [
        {
          "output_type": "stream",
          "text": [
            "(f) Média do coeficiente de agrupamento (clustering)\n",
            "Média do coeficiente de agrupamento: 0.02034845125701514\n"
          ],
          "name": "stdout"
        }
      ]
    },
    {
      "cell_type": "markdown",
      "metadata": {
        "id": "GnXxXrv6uYfw"
      },
      "source": [
        "(g) Diâmetro da rede"
      ]
    },
    {
      "cell_type": "code",
      "metadata": {
        "id": "auaKgm_KqLD_"
      },
      "source": [
        "print(\"(g) Diâmetro da rede\")\n",
        "#print(\"Diâmetro da rede: \" + str(nx.diameter(G)))"
      ],
      "execution_count": null,
      "outputs": []
    },
    {
      "cell_type": "markdown",
      "metadata": {
        "id": "fWqfPJB0uc9w"
      },
      "source": [
        "(h) Número de componentes conexos"
      ]
    },
    {
      "cell_type": "code",
      "metadata": {
        "id": "4YQzEUdfqMVi"
      },
      "source": [
        "print(\"(h) Número de componentes conexos\")\n",
        "#print(\"Número de componentes conexos: \" + str(nx.k_components(G)))"
      ],
      "execution_count": null,
      "outputs": []
    },
    {
      "cell_type": "markdown",
      "metadata": {
        "id": "IourHZO2ufMu"
      },
      "source": [
        "Análise dos 10 nós mais importantes"
      ]
    },
    {
      "cell_type": "code",
      "metadata": {
        "id": "t50l3HUTqi3O"
      },
      "source": [
        "#print(\"Betweennes Centrality: \" + str(nx.betweenness_centrality(G)))"
      ],
      "execution_count": null,
      "outputs": []
    },
    {
      "cell_type": "code",
      "metadata": {
        "colab": {
          "base_uri": "https://localhost:8080/"
        },
        "id": "zrgcffhUqloS",
        "outputId": "1e030cb0-9407-4e96-a343-02929f905772"
      },
      "source": [
        "print(\"10 nós mais importantes (pelo grau de entrada):\")\n",
        "sortedDegreeList = list(sorted(inDegreeDict.items(), key = lambda item: item[1], reverse = True))\n",
        "\n",
        "for i in range(10):\n",
        "    print(sortedDegreeList[i])"
      ],
      "execution_count": null,
      "outputs": [
        {
          "output_type": "stream",
          "text": [
            "10 nós mais importantes (pelo grau de entrada):\n",
            "('Unix', 819.0)\n",
            "('Usenet', 477.0)\n",
            "('C', 443.0)\n",
            "('IBM', 415.0)\n",
            "('Internet', 413.0)\n",
            "('operating system', 390.0)\n",
            "('protocol', 373.0)\n",
            "('MS-DOS', 295.0)\n",
            "('standard', 255.0)\n",
            "('ASCII', 254.0)\n"
          ],
          "name": "stdout"
        }
      ]
    },
    {
      "cell_type": "code",
      "metadata": {
        "colab": {
          "base_uri": "https://localhost:8080/"
        },
        "id": "kPNyxErzqp4r",
        "outputId": "d38a7a0b-fbd6-4309-8b5a-17ffb10f4ba8"
      },
      "source": [
        "print(\"10 nós mais importantes (pelo grau de saída):\")\n",
        "sortedDegreeList = list(sorted(outDegreeDict.items(), key = lambda item: item[1], reverse = True))\n",
        "\n",
        "for i in range(10):\n",
        "    print(sortedDegreeList[i])"
      ],
      "execution_count": null,
      "outputs": [
        {
          "output_type": "stream",
          "text": [
            "10 nós mais importantes (pelo grau de saída):\n",
            "('W2K', 289.0)\n",
            "('ASCII', 195.0)\n",
            "('486', 145.0)\n",
            "('OSI', 98.0)\n",
            "('WEB', 96.0)\n",
            "('Emacs', 86.0)\n",
            "('Abstract Syntax Notation 1', 72.0)\n",
            "('URL', 72.0)\n",
            "('object-oriented programming', 64.0)\n",
            "('Windows sockets', 64.0)\n"
          ],
          "name": "stdout"
        }
      ]
    },
    {
      "cell_type": "code",
      "metadata": {
        "colab": {
          "base_uri": "https://localhost:8080/"
        },
        "id": "F6gp5YDM5MgY",
        "outputId": "6ae56256-4525-4976-b0af-2e7ebeb702dd"
      },
      "source": [
        "print(\"10 nós mais importantes (pela centralidade do autovetor): \")\n",
        "engenCentrDict = dict(nx.eigenvector_centrality(G, weight = \"weight\"))\n",
        "sortedEngenCentrList = list(sorted(engenCentrDict.items(), key = lambda item: item[1], reverse = True))\n",
        "\n",
        "for i in range(10):\n",
        "    print(sortedEngenCentrList[i])"
      ],
      "execution_count": null,
      "outputs": [
        {
          "output_type": "stream",
          "text": [
            "10 nós mais importantes (pela centralidade do autovetor): \n",
            "('Unix', 0.33609803832444873)\n",
            "('operating system', 0.2212892922742617)\n",
            "('Usenet', 0.1982098744942228)\n",
            "('Internet', 0.17764976685571843)\n",
            "('IBM', 0.17055632261368098)\n",
            "('Intel 80386', 0.15740494744960148)\n",
            "('clock rate', 0.1549475110579293)\n",
            "('IBM PC', 0.15166315849826476)\n",
            "('protocol', 0.1459247641357533)\n",
            "('C', 0.14305606312953956)\n"
          ],
          "name": "stdout"
        }
      ]
    }
  ]
}